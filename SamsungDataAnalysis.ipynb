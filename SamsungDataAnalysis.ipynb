{
  "nbformat": 4,
  "nbformat_minor": 5,
  "metadata": {
    "noteable-chatgpt": {
      "create_notebook": {
        "openai_conversation_id": "cd8aeea8-45eb-5b67-9b9c-aa1c9632f2df",
        "openai_ephemeral_user_id": "3f396a3d-f636-5e5b-aa1a-62c02b0c4c33",
        "openai_subdivision1_iso_code": "SE-M"
      }
    },
    "kernel_info": {
      "name": "python3"
    },
    "noteable": {
      "last_transaction_id": "6111ebfa-e428-4de2-be09-7b325ddb7200"
    },
    "kernelspec": {
      "display_name": "Python 3.9",
      "language": "python",
      "name": "python3"
    },
    "selected_hardware_size": "small"
  },
  "cells": [
    {
      "id": "9c6db0ee-089f-4a7e-a4f9-0b9439e23db0",
      "cell_type": "code",
      "metadata": {
        "jupyter": {
          "outputs_hidden": false,
          "source_hidden": false
        },
        "noteable": {
          "cell_type": "code",
          "output_collection_id": "953137cb-1865-402c-b98b-4261d7fc0239"
        },
        "ExecuteTime": {
          "end_time": "2023-08-01T18:24:50.811528+00:00",
          "start_time": "2023-08-01T18:24:50.655493+00:00"
        }
      },
      "execution_count": null,
      "source": "## Samsung Data Cleaning\n",
      "outputs": []
    },
    {
      "id": "09739f61-ffc5-4610-831d-f9840e181d19",
      "cell_type": "code",
      "metadata": {
        "noteable": {
          "cell_type": "code",
          "output_collection_id": "8055df9e-9488-4611-a99f-a4355fe800f3"
        },
        "ExecuteTime": {
          "end_time": "2023-08-01T18:24:27.800058+00:00",
          "start_time": "2023-08-01T18:24:27.546783+00:00"
        },
        "datalink": {
          "1c538104-efd2-4baf-b56f-151f18d30aea": {
            "applied_filters": [],
            "dataframe_info": {
              "default_index_used": true,
              "orig_num_cols": 10,
              "orig_num_rows": 5,
              "orig_size_bytes": 440,
              "truncated_num_cols": 10,
              "truncated_num_rows": 5,
              "truncated_size_bytes": 440,
              "truncated_string_columns": [
                "os_processor",
                "camera",
                "network"
              ]
            },
            "display_id": "1c538104-efd2-4baf-b56f-151f18d30aea",
            "dx_settings": {
              "ALLOW_NOTEABLE_ATTRS": true,
              "COLUMN_SAMPLING_METHOD": "outer",
              "DB_LOCATION": ":memory:",
              "DEV_MODE": false,
              "DISPLAY_MAX_COLUMNS": 100,
              "DISPLAY_MAX_ROWS": 50000,
              "DISPLAY_MODE": "simple",
              "ENABLE_ASSIGNMENT": true,
              "ENABLE_DATALINK": true,
              "FLATTEN_COLUMN_VALUES": true,
              "FLATTEN_INDEX_VALUES": false,
              "GENERATE_DEX_METADATA": false,
              "HTML_TABLE_SCHEMA": false,
              "LOG_LEVEL": 30,
              "MAX_RENDER_SIZE_BYTES": 104857600,
              "MAX_STRING_LENGTH": 250,
              "NUM_PAST_SAMPLES_TRACKED": 3,
              "RANDOM_STATE": 12648430,
              "RESET_INDEX_VALUES": false,
              "ROW_SAMPLING_METHOD": "random",
              "SAMPLING_FACTOR": 0.1,
              "SAMPLING_METHOD": "random",
              "STRINGIFY_COLUMN_VALUES": true,
              "STRINGIFY_INDEX_VALUES": false
            },
            "sample_history": [],
            "sampling_time": "2023-08-01T18:24:27.637247",
            "user_variable_name": null,
            "variable_name": "unk_dataframe_aa7cee75d0e843019a58024140df69ac"
          }
        }
      },
      "execution_count": null,
      "source": "import pandas as pd\n\n# Load the data\ndf = pd.read_csv('samsung_mobile_new_data.csv')\n\n# Display the first few rows of the dataframe\ndf.head()",
      "outputs": []
    },
    {
      "id": "b3269379-0358-47f8-b324-3f786d196844",
      "cell_type": "code",
      "metadata": {
        "noteable": {
          "cell_type": "code",
          "output_collection_id": "273507d7-2894-4c99-8aff-8effbc5c5f4f"
        },
        "ExecuteTime": {
          "end_time": "2023-08-01T18:24:35.618740+00:00",
          "start_time": "2023-08-01T18:24:35.422433+00:00"
        },
        "datalink": {
          "3c612722-bf35-4338-91d3-656613f7c4e6": {
            "applied_filters": [],
            "dataframe_info": {
              "default_index_used": false,
              "orig_num_cols": 1,
              "orig_num_rows": 10,
              "orig_size_bytes": 160,
              "truncated_num_cols": 1,
              "truncated_num_rows": 10,
              "truncated_size_bytes": 160,
              "truncated_string_columns": []
            },
            "display_id": "3c612722-bf35-4338-91d3-656613f7c4e6",
            "dx_settings": {
              "ALLOW_NOTEABLE_ATTRS": true,
              "COLUMN_SAMPLING_METHOD": "outer",
              "DB_LOCATION": ":memory:",
              "DEV_MODE": false,
              "DISPLAY_MAX_COLUMNS": 100,
              "DISPLAY_MAX_ROWS": 50000,
              "DISPLAY_MODE": "simple",
              "ENABLE_ASSIGNMENT": true,
              "ENABLE_DATALINK": true,
              "FLATTEN_COLUMN_VALUES": true,
              "FLATTEN_INDEX_VALUES": false,
              "GENERATE_DEX_METADATA": false,
              "HTML_TABLE_SCHEMA": false,
              "LOG_LEVEL": 30,
              "MAX_RENDER_SIZE_BYTES": 104857600,
              "MAX_STRING_LENGTH": 250,
              "NUM_PAST_SAMPLES_TRACKED": 3,
              "RANDOM_STATE": 12648430,
              "RESET_INDEX_VALUES": false,
              "ROW_SAMPLING_METHOD": "random",
              "SAMPLING_FACTOR": 0.1,
              "SAMPLING_METHOD": "random",
              "STRINGIFY_COLUMN_VALUES": true,
              "STRINGIFY_INDEX_VALUES": false
            },
            "sample_history": [],
            "sampling_time": "2023-08-01T18:24:35.461905",
            "user_variable_name": null,
            "variable_name": "unk_dataframe_b57c1f577bde40f389b271bd122ccd01"
          }
        }
      },
      "execution_count": null,
      "source": "# Check for missing data\ndf.isnull().sum()",
      "outputs": []
    },
    {
      "id": "1bd10816-4c9c-4a4c-969d-84dbb8e1cd35",
      "cell_type": "code",
      "metadata": {
        "noteable": {
          "cell_type": "code",
          "output_collection_id": "6b2fcadc-c82e-4ec5-8632-179e0ea7216d"
        },
        "ExecuteTime": {
          "end_time": "2023-08-01T18:24:43.742091+00:00",
          "start_time": "2023-08-01T18:24:43.576641+00:00"
        }
      },
      "execution_count": null,
      "source": "# Check for duplicate rows\ndf.duplicated().sum()",
      "outputs": []
    },
    {
      "id": "d6590137-e6dd-4628-9baa-1ed13b05d59b",
      "cell_type": "code",
      "metadata": {
        "noteable": {
          "cell_type": "code",
          "output_collection_id": "c86e3544-e309-48c9-80f4-de66bcff1603"
        },
        "ExecuteTime": {
          "end_time": "2023-08-01T18:25:39.991624+00:00",
          "start_time": "2023-08-01T18:25:39.756349+00:00"
        },
        "datalink": {
          "840b8331-b067-4aee-85f3-b976a78b1a46": {
            "applied_filters": [],
            "dataframe_info": {
              "default_index_used": true,
              "orig_num_cols": 10,
              "orig_num_rows": 5,
              "orig_size_bytes": 440,
              "truncated_num_cols": 10,
              "truncated_num_rows": 5,
              "truncated_size_bytes": 440,
              "truncated_string_columns": [
                "os_processor",
                "camera",
                "network"
              ]
            },
            "display_id": "840b8331-b067-4aee-85f3-b976a78b1a46",
            "dx_settings": {
              "ALLOW_NOTEABLE_ATTRS": true,
              "COLUMN_SAMPLING_METHOD": "outer",
              "DB_LOCATION": ":memory:",
              "DEV_MODE": false,
              "DISPLAY_MAX_COLUMNS": 100,
              "DISPLAY_MAX_ROWS": 50000,
              "DISPLAY_MODE": "simple",
              "ENABLE_ASSIGNMENT": true,
              "ENABLE_DATALINK": true,
              "FLATTEN_COLUMN_VALUES": true,
              "FLATTEN_INDEX_VALUES": false,
              "GENERATE_DEX_METADATA": false,
              "HTML_TABLE_SCHEMA": false,
              "LOG_LEVEL": 30,
              "MAX_RENDER_SIZE_BYTES": 104857600,
              "MAX_STRING_LENGTH": 250,
              "NUM_PAST_SAMPLES_TRACKED": 3,
              "RANDOM_STATE": 12648430,
              "RESET_INDEX_VALUES": false,
              "ROW_SAMPLING_METHOD": "random",
              "SAMPLING_FACTOR": 0.1,
              "SAMPLING_METHOD": "random",
              "STRINGIFY_COLUMN_VALUES": true,
              "STRINGIFY_INDEX_VALUES": false
            },
            "sample_history": [],
            "sampling_time": "2023-08-01T18:25:39.832630",
            "user_variable_name": null,
            "variable_name": "unk_dataframe_6d7efc8dd6f24ad7933bb0985afd81b4"
          }
        }
      },
      "execution_count": null,
      "source": "# Drop duplicate rows\ndf = df.drop_duplicates().reset_index(drop=True)\n\n# Display the first few rows of the dataframe\ndf.head()",
      "outputs": []
    },
    {
      "id": "c1438da7-bc4a-458a-86ea-d1c367f99832",
      "cell_type": "code",
      "metadata": {
        "noteable": {
          "cell_type": "code",
          "output_collection_id": "fb3fe903-6e9e-4ca8-b51d-b92162d9fc2a"
        },
        "ExecuteTime": {
          "end_time": "2023-08-01T18:27:14.938208+00:00",
          "start_time": "2023-08-01T18:27:14.779569+00:00"
        }
      },
      "execution_count": null,
      "source": "# Identify categorical columns\ncategorical_cols = df.select_dtypes(include=['object']).columns\n\n# Print unique values in each categorical column\nfor col in categorical_cols:\n    print(f'\\nUnique values in {col}:\\n{df[col].unique()}'",
      "outputs": []
    },
    {
      "id": "6a057739-7ce5-42a3-a4c9-2e86d11e47a3",
      "cell_type": "code",
      "metadata": {
        "noteable": {
          "cell_type": "code",
          "output_collection_id": "71dbaf41-fadb-4895-afe0-a24285318483"
        },
        "ExecuteTime": {
          "end_time": "2023-08-01T18:27:29.358845+00:00",
          "start_time": "2023-08-01T18:27:29.184906+00:00"
        }
      },
      "execution_count": null,
      "source": "# Identify categorical columns\ncategorical_cols = df.select_dtypes(include=['object']).columns\n\n# Print unique values in each categorical column\nfor col in categorical_cols:\n    print(f'\\nUnique values in {col}:\\n{df[col].unique()}')",
      "outputs": []
    },
    {
      "id": "c9f1365b-ebd9-4b8f-a825-02032453fc90",
      "cell_type": "code",
      "metadata": {
        "noteable": {
          "cell_type": "code",
          "output_collection_id": "cee7f335-a6ff-4b99-9160-0c3dbb3731fb"
        },
        "ExecuteTime": {
          "end_time": "2023-08-01T18:29:51.742319+00:00",
          "start_time": "2023-08-01T18:29:51.423216+00:00"
        },
        "datalink": {
          "654eec6a-e922-4999-a751-e870398368d4": {
            "applied_filters": [],
            "dataframe_info": {
              "default_index_used": true,
              "orig_num_cols": 21,
              "orig_num_rows": 5,
              "orig_size_bytes": 880,
              "truncated_num_cols": 21,
              "truncated_num_rows": 5,
              "truncated_size_bytes": 880,
              "truncated_string_columns": [
                "os_processor",
                "camera",
                "network"
              ]
            },
            "display_id": "654eec6a-e922-4999-a751-e870398368d4",
            "dx_settings": {
              "ALLOW_NOTEABLE_ATTRS": true,
              "COLUMN_SAMPLING_METHOD": "outer",
              "DB_LOCATION": ":memory:",
              "DEV_MODE": false,
              "DISPLAY_MAX_COLUMNS": 100,
              "DISPLAY_MAX_ROWS": 50000,
              "DISPLAY_MODE": "simple",
              "ENABLE_ASSIGNMENT": true,
              "ENABLE_DATALINK": true,
              "FLATTEN_COLUMN_VALUES": true,
              "FLATTEN_INDEX_VALUES": false,
              "GENERATE_DEX_METADATA": false,
              "HTML_TABLE_SCHEMA": false,
              "LOG_LEVEL": 30,
              "MAX_RENDER_SIZE_BYTES": 104857600,
              "MAX_STRING_LENGTH": 250,
              "NUM_PAST_SAMPLES_TRACKED": 3,
              "RANDOM_STATE": 12648430,
              "RESET_INDEX_VALUES": false,
              "ROW_SAMPLING_METHOD": "random",
              "SAMPLING_FACTOR": 0.1,
              "SAMPLING_METHOD": "random",
              "STRINGIFY_COLUMN_VALUES": true,
              "STRINGIFY_INDEX_VALUES": false
            },
            "sample_history": [],
            "sampling_time": "2023-08-01T18:29:51.582152",
            "user_variable_name": null,
            "variable_name": "unk_dataframe_58216b92ab7e49abb0f8d9caa46c8e3e"
          }
        }
      },
      "execution_count": null,
      "source": "# Create new columns\ndf['Brand'] = df.name.apply(lambda x: x.split(' ')[0])\n\n# Extract model, color, storage, and network from 'name' column\ndf['Model'] = df['name'].str.extract(r'(.+?) \\(')\ndf['Color'] = df['name'].str.extract(r'\\((.+?) \\(')\ndf['Storage'] = df['name'].str.extract(r'(\\d+GB)')\ndf['Network'] = df['name'].str.extract(r'(?=.*\\b5G\\b)(\\b5G\\b)')\n\n# Extract features from 'storage_ram' column\ndf[['Internal_Storage', 'RAM']] = df['storage_ram'].str.extract(r'Internal Storage(\\d+ GB)RAM(\\d+ GB)')\ndf['Expandable_Storage'] = df['storage_ram'].str.extract(r'Expandable Storage(\\d+ TB)')\ndf['Supported_Memory_Card_Type'] = df['storage_ram'].str.extract(r'Supported Memory Card Type(MIcroSD)')\ndf['Memory_Card_Slot_Type'] = df['storage_ram'].str.extract(r'Memory Card Slot Type(Dedicated Slot)')\ndf['Call_Log_Memory'] = df['storage_ram'].str.extract(r'Call Log Memory(Yes)')\n\n# Display the first few rows of the dataframe\ndf.head()",
      "outputs": []
    },
    {
      "id": "e470e4f2-3677-48fb-b87b-14179a88cd08",
      "cell_type": "code",
      "metadata": {
        "noteable": {
          "cell_type": "code",
          "output_collection_id": "6c978e16-b627-414f-8d78-490557779627"
        },
        "ExecuteTime": {
          "end_time": "2023-08-01T18:35:02.395746+00:00",
          "start_time": "2023-08-01T18:35:02.231998+00:00"
        }
      },
      "execution_count": null,
      "source": "# Clean 'Supported_Memory_Card_Type' column\ndf['Supported_Memory_Card_Type'] = df['Supported_Memory_Card_Type'].str.replace('Memory','')\n\n# Clean 'Memory_Card_Slot_Type' column\ndf['Memory_Card_Slot_Type'] = df['Memory_Card_Slot_Type'].str.replace('Memory', '')\n\n# Simplify 'Memory_Card_Slot_Type' column\ndef simplify_memory_card_slot(value):\n    if pd.notna(value):\n        if 'Hybrid' in value:\n            return 'Hybrid Slot'\n        elif 'Dedicated' in value:\n            return 'Dedicated Slot'\n    return np.nan\n\ndf['Memory_Card_Slot_Simplified'] = df['Memory_Card_Slot_Type'].apply(simplify_memory_card_slot)\n\n# Drop the original 'Memory_Card_Slot_Type' column\ndf.drop(columns=['Memory_Card_Slot_Type'], inplace=True)",
      "outputs": []
    },
    {
      "id": "861feb72-2f9b-4f35-985a-e1232b0f3e84",
      "cell_type": "code",
      "metadata": {
        "noteable": {
          "cell_type": "code",
          "output_collection_id": "d7f7ec7b-806a-4cc7-9ce4-630a160f7c4d"
        },
        "ExecuteTime": {
          "end_time": "2023-08-01T18:44:31.460774+00:00",
          "start_time": "2023-08-01T18:44:30.381480+00:00"
        }
      },
      "execution_count": null,
      "source": "# Extract features from 'os_processor' column\ndf['Operating_System'] = df['os_processor'].str.extract(r'(Operating System\\w+)')\ndf['OS_Version'] = df['os_processor'].str.extract(r'(\\d+)')\ndf['Chipset'] = df['os_processor'].str.extract(r'(Chipset\\w+)')\ndf['CPU'] = df['os_processor'].str.extract(r'(CPU\\w+)')\n\n# Extract features from 'camera' column\ndf['Primary_Camera'] = df['camera'].apply(lambda x: 'Yes' if 'Primary Camera AvailableYes' in x else 'No')\ndf['Secondary_Camera'] = df['camera'].apply(lambda x: 'Yes' if 'Secondary Camera AvailableYes' in x else 'No')\ndf['Dual_Camera'] = df['camera'].apply(lambda x: 'Yes' if 'Dual Camera Setup' in x else 'No')\ndf['Video_4K'] = df['camera'].apply(lambda x: 'Yes' if '4K' in x else 'No')",
      "outputs": []
    },
    {
      "id": "d142472b-1e96-4433-ad02-adbbe294b410",
      "cell_type": "code",
      "metadata": {
        "noteable": {
          "cell_type": "code",
          "output_collection_id": "4d49c016-c946-4f4e-bced-3b86dd76f463"
        },
        "ExecuteTime": {
          "end_time": "2023-08-01T18:45:08.171930+00:00",
          "start_time": "2023-08-01T18:45:07.996892+00:00"
        }
      },
      "execution_count": null,
      "source": "# Fill missing values with 'None'\ndf['os_processor'].fillna('None', inplace=True)\ndf['camera'].fillna('None', inplace=True)\n\n# Extract features from 'os_processor' column\ndf['Operating_System'] = df['os_processor'].str.extract(r'(Operating System\\w+)')\ndf['OS_Version'] = df['os_processor'].str.extract(r'(\\d+)')\ndf['Chipset'] = df['os_processor'].str.extract(r'(Chipset\\w+)')\ndf['CPU'] = df['os_processor'].str.extract(r'(CPU\\w+)')\n\n# Extract features from 'camera' column\ndf['Primary_Camera'] = df['camera'].apply(lambda x: 'Yes' if 'Primary Camera AvailableYes' in x else 'No')\ndf['Secondary_Camera'] = df['camera'].apply(lambda x: 'Yes' if 'Secondary Camera AvailableYes' in x else 'No')\ndf['Dual_Camera'] = df['camera'].apply(lambda x: 'Yes' if 'Dual Camera Setup' in x else 'No')\ndf['Video_4K'] = df['camera'].apply(lambda x: 'Yes' if '4K' in x else 'No')",
      "outputs": []
    },
    {
      "id": "04154608-ac73-4fcb-905e-16f67f5a6d6e",
      "cell_type": "code",
      "metadata": {
        "noteable": {
          "cell_type": "code",
          "output_collection_id": "014e560d-07d0-42a3-8b71-a236df77211b"
        },
        "ExecuteTime": {
          "end_time": "2023-08-01T18:49:08.594880+00:00",
          "start_time": "2023-08-01T18:49:08.423645+00:00"
        }
      },
      "execution_count": null,
      "source": "# Fill missing values with 'None'\ndf['display'].fillna('None', inplace=True)\n\n# Extract features from 'display' column\ndf['Display_Size'] = df['display'].str.extract(r'(\\d+\\.\\d+ cm)')\ndf['Display_Type_LED'] = df['display'].apply(lambda x: 'Yes' if 'LED' in x else 'No')\ndf['Display_Type_LCD'] = df['display'].apply(lambda x: 'Yes' if 'LCD' in x else 'No')\ndf['Display_Type_AMOLED'] = df['display'].apply(lambda x: 'Yes' if 'AMOLED' in x else 'No')\ndf['Resolution'] = df['display'].str.extract(r'(\\d+x\\d+ Pixels)')",
      "outputs": []
    },
    {
      "id": "55640824-0099-4f15-9b36-12771ab6f704",
      "cell_type": "code",
      "metadata": {
        "noteable": {
          "cell_type": "code",
          "output_collection_id": "35489744-1863-4cd0-acb4-18a77f968b29"
        },
        "ExecuteTime": {
          "end_time": "2023-08-01T18:50:24.414515+00:00",
          "start_time": "2023-08-01T18:50:24.243785+00:00"
        }
      },
      "execution_count": null,
      "source": "# Fill missing values with 'None'\ndf['network'].fillna('None', inplace=True)\n\n# Extract features from 'network' column\ndf['Network_Type_2G'] = df['network'].apply(lambda x: 'Yes' if '2G' in x else 'No')\ndf['Network_Type_3G'] = df['network'].apply(lambda x: 'Yes' if '3G' in x else 'No')\ndf['Network_Type_4G'] = df['network'].apply(lambda x: 'Yes' if '4G' in x else 'No')\ndf['Network_Type_5G'] = df['network'].apply(lambda x: 'Yes' if '5G' in x else 'No')\ndf['Supported_Networks_GSM'] = df['network'].apply(lambda x: 'Yes' if 'GSM' in x else 'No')\ndf['Supported_Networks_LTE'] = df['network'].apply(lambda x: 'Yes' if 'LTE' in x else 'No')\ndf['Internet_Connectivity_WiFi'] = df['network'].apply(lambda x: 'Yes' if 'Wi-Fi' in x else 'No')\ndf['Internet_Connectivity_GPRS'] = df['network'].apply(lambda x: 'Yes' if 'GPRS' in x else 'No')\ndf['Bluetooth_Support'] = df['network'].apply(lambda x: 'Yes' if 'Bluetooth SupportYes' in x else 'No')",
      "outputs": []
    },
    {
      "id": "6788315b-67ad-453e-b482-0051c679e0eb",
      "cell_type": "code",
      "metadata": {
        "noteable": {
          "cell_type": "code",
          "output_collection_id": "613629e7-5136-440d-9764-9fb15e06a1db"
        },
        "ExecuteTime": {
          "end_time": "2023-08-01T18:51:05.149645+00:00",
          "start_time": "2023-08-01T18:51:04.979944+00:00"
        }
      },
      "execution_count": null,
      "source": "# Fill missing values with 'None'\ndf['battery'].fillna('None', inplace=True)\n\n# Extract features from 'battery' column\ndf['Battery_Capacity'] = df['battery'].str.extract(r'(\\d+ mAh)')\ndf['Battery_Type_Li_Ion'] = df['battery'].apply(lambda x: 'Yes' if 'Li-Ion' in x else 'No')\ndf['Battery_Type_Li_Poly'] = df['battery'].apply(lambda x: 'Yes' if 'Li-Poly' in x else 'No')\ndf['Wireless_Charging'] = df['battery'].apply(lambda x: 'Yes' if 'Wireless Charging' in x else 'No')\ndf['Fast_Charging'] = df['battery'].apply(lambda x: 'Yes' if 'Fast Charging' in x else 'No')",
      "outputs": []
    },
    {
      "id": "6d9eb06a-a48b-40c2-b6e0-cbb3ec8d6ff2",
      "cell_type": "code",
      "metadata": {
        "noteable": {
          "cell_type": "code",
          "output_collection_id": "7a8c6e1f-5456-463d-80b4-d3a396abbfb9"
        },
        "ExecuteTime": {
          "end_time": "2023-08-01T18:51:59.707022+00:00",
          "start_time": "2023-08-01T18:51:59.549153+00:00"
        }
      },
      "execution_count": null,
      "source": "# Clean 'Model' column\ndf['Model'] = df['Model'].str.replace('SAMSUNG', '')",
      "outputs": []
    },
    {
      "id": "1c342f5c-6130-42ea-ac32-8b6825d2d926",
      "cell_type": "code",
      "metadata": {
        "noteable": {
          "cell_type": "code",
          "output_collection_id": "ff87b693-4bdd-4ce2-adae-5c4691b1baaf"
        },
        "ExecuteTime": {
          "end_time": "2023-08-01T18:52:02.817105+00:00",
          "start_time": "2023-08-01T18:52:02.624112+00:00"
        },
        "datalink": {
          "dfbfb055-d2d7-4326-bf6d-659267e1a94c": {
            "applied_filters": [],
            "dataframe_info": {
              "default_index_used": false,
              "orig_num_cols": 1,
              "orig_num_rows": 1,
              "orig_size_bytes": 16,
              "truncated_num_cols": 1,
              "truncated_num_rows": 1,
              "truncated_size_bytes": 16,
              "truncated_string_columns": []
            },
            "display_id": "dfbfb055-d2d7-4326-bf6d-659267e1a94c",
            "dx_settings": {
              "ALLOW_NOTEABLE_ATTRS": true,
              "COLUMN_SAMPLING_METHOD": "outer",
              "DB_LOCATION": ":memory:",
              "DEV_MODE": false,
              "DISPLAY_MAX_COLUMNS": 100,
              "DISPLAY_MAX_ROWS": 50000,
              "DISPLAY_MODE": "simple",
              "ENABLE_ASSIGNMENT": true,
              "ENABLE_DATALINK": true,
              "FLATTEN_COLUMN_VALUES": true,
              "FLATTEN_INDEX_VALUES": false,
              "GENERATE_DEX_METADATA": false,
              "HTML_TABLE_SCHEMA": false,
              "LOG_LEVEL": 30,
              "MAX_RENDER_SIZE_BYTES": 104857600,
              "MAX_STRING_LENGTH": 250,
              "NUM_PAST_SAMPLES_TRACKED": 3,
              "RANDOM_STATE": 12648430,
              "RESET_INDEX_VALUES": false,
              "ROW_SAMPLING_METHOD": "random",
              "SAMPLING_FACTOR": 0.1,
              "SAMPLING_METHOD": "random",
              "STRINGIFY_COLUMN_VALUES": true,
              "STRINGIFY_INDEX_VALUES": false
            },
            "sample_history": [],
            "sampling_time": "2023-08-01T18:52:02.660958",
            "user_variable_name": null,
            "variable_name": "unk_dataframe_65b640fed7dd46fabe444abebbfeac92"
          }
        }
      },
      "execution_count": null,
      "source": "# Count the unique values in the 'Network' column\ndf['Network'].value_counts(dropna=True)",
      "outputs": []
    },
    {
      "id": "2d34768d-630d-4568-a5be-83b23de69313",
      "cell_type": "code",
      "metadata": {
        "noteable": {
          "cell_type": "code",
          "output_collection_id": "6de31276-4325-47f0-88ff-3856c5f724c7"
        },
        "ExecuteTime": {
          "end_time": "2023-08-01T18:52:30.391112+00:00",
          "start_time": "2023-08-01T18:52:30.232249+00:00"
        }
      },
      "execution_count": null,
      "source": "# Clean 'Model' column\ndf['Model'] = df['Model'].str.replace('5G', '')",
      "outputs": []
    },
    {
      "id": "42d17152-b67f-4d4c-ae91-1bed06904755",
      "cell_type": "code",
      "metadata": {
        "noteable": {
          "cell_type": "code",
          "output_collection_id": "4f6adfb7-f5b6-4889-939b-90e1b021e6c9"
        },
        "ExecuteTime": {
          "end_time": "2023-08-01T18:52:51.119607+00:00",
          "start_time": "2023-08-01T18:52:50.959200+00:00"
        }
      },
      "execution_count": null,
      "source": "# Count the total occurrences of '5G' in the 'Model' column\ntotal_5g_occurrences = df['Model'].str.count('5G').sum()\ntotal_5g_occurrences",
      "outputs": []
    }
  ]
}